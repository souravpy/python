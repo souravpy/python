{
 "cells": [
  {
   "cell_type": "code",
   "execution_count": 1,
   "metadata": {},
   "outputs": [
    {
     "name": "stdout",
     "output_type": "stream",
     "text": [
      "<class 'int'>\n"
     ]
    }
   ],
   "source": [
    "a=11\n",
    "print(type(a))"
   ]
  },
  {
   "cell_type": "code",
   "execution_count": 2,
   "metadata": {},
   "outputs": [
    {
     "ename": "AttributeError",
     "evalue": "'function' object has no attribute 'specs'",
     "output_type": "error",
     "traceback": [
      "\u001b[0;31m---------------------------------------------------------------------------\u001b[0m",
      "\u001b[0;31mAttributeError\u001b[0m                            Traceback (most recent call last)",
      "\u001b[1;32mUntitled-1.ipynb Cell 2\u001b[0m in \u001b[0;36m<cell line: 5>\u001b[0;34m()\u001b[0m\n\u001b[1;32m      <a href='vscode-notebook-cell:Untitled-1.ipynb?jupyter-notebook#ch0000001untitled?line=2'>3</a>\u001b[0m                 \u001b[39mprint\u001b[39m(\u001b[39m\"\u001b[39m\u001b[39mi7, 1tb, 16gb\u001b[39m\u001b[39m\"\u001b[39m)\n\u001b[1;32m      <a href='vscode-notebook-cell:Untitled-1.ipynb?jupyter-notebook#ch0000001untitled?line=3'>4</a>\u001b[0m com\u001b[39m=\u001b[39mComputer()\n\u001b[0;32m----> <a href='vscode-notebook-cell:Untitled-1.ipynb?jupyter-notebook#ch0000001untitled?line=4'>5</a>\u001b[0m Computer\u001b[39m.\u001b[39;49mspecs(com1)\n\u001b[1;32m      <a href='vscode-notebook-cell:Untitled-1.ipynb?jupyter-notebook#ch0000001untitled?line=5'>6</a>\u001b[0m \u001b[39mprint\u001b[39m(\u001b[39mtype\u001b[39m(com1))\n",
      "\u001b[0;31mAttributeError\u001b[0m: 'function' object has no attribute 'specs'"
     ]
    }
   ],
   "source": [
    "def Computer():\n",
    "        def specs(self):\n",
    "                print(\"i7, 1tb, 16gb\")\n",
    "com=Computer()\n",
    "Computer.specs(com1)\n",
    "print(type(com1))  "
   ]
  },
  {
   "cell_type": "code",
   "execution_count": 3,
   "metadata": {},
   "outputs": [
    {
     "name": "stdout",
     "output_type": "stream",
     "text": [
      "prints when called\n",
      "prints when called\n",
      "fucking specs\n",
      "fucking specs\n"
     ]
    }
   ],
   "source": [
    "class Computer():\n",
    "        def __init__(self):\n",
    "                print(\"prints when called\")\n",
    "        def configs(self):\n",
    "                print(\"fucking specs\")\n",
    "        \n",
    "a=Computer()\n",
    "b=Computer()\n",
    "\n",
    "a.configs()\n",
    "b.configs()"
   ]
  },
  {
   "cell_type": "code",
   "execution_count": 6,
   "metadata": {},
   "outputs": [
    {
     "name": "stdout",
     "output_type": "stream",
     "text": [
      "139781932942240\n",
      "139781932945360\n"
     ]
    }
   ],
   "source": [
    "\n",
    "class car:\n",
    "        pass #class cant be empty\n",
    "porche=car()\n",
    "rari=car()\n",
    "print(id(porche))\n",
    "print(id(rari))"
   ]
  },
  {
   "cell_type": "code",
   "execution_count": null,
   "metadata": {},
   "outputs": [],
   "source": [
    "#make a class student with all the attributes\n",
    "#make a method to update the obects value\n",
    "#method to compare\n",
    "class student:\n",
    "        def __init__(self, name, class, roll):\n",
    "                self.name = name\n",
    "                self.class = class \n",
    "                self.roll = roll\n",
    "        def update(self,name):\n",
    "                opt=int(input(\"enter: \n",
    "                                1.for updating name\n",
    "                                2.for updating roll\n",
    "                                3.for rerunning the query\n",
    "                                or any key for exit to main menu\"))\n",
    "                if opt == 1:\n",
    "                        new_name=input(\"enter the updated value\")\n",
    "                        self.name=new_name\n",
    "\n",
    "                \n",
    "                "
   ]
  },
  {
   "cell_type": "code",
   "execution_count": 7,
   "metadata": {},
   "outputs": [
    {
     "name": "stdout",
     "output_type": "stream",
     "text": [
      "69\n",
      "69\n",
      "69\n"
     ]
    }
   ],
   "source": [
    "#multiple opeator assignment\n",
    "a=b=c=69\n",
    "print(a)\n",
    "print(b)\n",
    "print(c)\n"
   ]
  },
  {
   "cell_type": "code",
   "execution_count": 1,
   "metadata": {},
   "outputs": [
    {
     "name": "stdout",
     "output_type": "stream",
     "text": [
      "og val of a,b resp 69 42\n",
      "swap val of a,b resp 42 69\n"
     ]
    }
   ],
   "source": [
    "#swapping the values\n",
    "a=69\n",
    "b=42\n",
    "print(\"og val of a,b resp\",a,b)\n",
    "a,b=b,a\n",
    "print(\"swap val of a,b resp\",a,b)"
   ]
  },
  {
   "cell_type": "code",
   "execution_count": 2,
   "metadata": {},
   "outputs": [
    {
     "name": "stdout",
     "output_type": "stream",
     "text": [
      "\n",
      "<class '__main__.item'>\n"
     ]
    }
   ],
   "source": [
    "#classes are custom datatypes\n",
    "#creating a class for item in stores\n",
    "class item:\n",
    "        def __init__(self,name,price,quant):\n",
    "                self.name = name\n",
    "                self.price = price\n",
    "                self.quant = quant\n",
    "fruit = item(\"apple\", 10, 12)\n",
    "# fruit.name = apple # it  \n",
    "# fruit.price = 10\n",
    "# fruit.quant = 12\n",
    "print()\n",
    "print(type(fruit))\n",
    "\n",
    "# make a variable which contains all the name of fruits\n",
    "# or make a new attribute that defines the category  \n",
    "\n",
    "\n",
    "\n"
   ]
  },
  {
   "cell_type": "code",
   "execution_count": 1,
   "metadata": {},
   "outputs": [
    {
     "name": "stdout",
     "output_type": "stream",
     "text": [
      "hello world\n"
     ]
    }
   ],
   "source": [
    "print(\"hello world\")"
   ]
  },
  {
   "cell_type": "code",
   "execution_count": 6,
   "metadata": {},
   "outputs": [
    {
     "name": "stdout",
     "output_type": "stream",
     "text": [
      "<class 'function'>\n",
      "<class 'int'>\n",
      "<class 'str'>\n"
     ]
    }
   ],
   "source": [
    "from collections import UserString\n",
    "\n",
    "\n",
    "def sus():\n",
    "        print('sus')\n",
    "print(type(sus))\n",
    "a=2\n",
    "b='24may22UserString'\n",
    "print(type(a))\n",
    "print(type(b.upper()))\n"
   ]
  },
  {
   "cell_type": "code",
   "execution_count": 7,
   "metadata": {},
   "outputs": [
    {
     "ename": "SyntaxError",
     "evalue": "incomplete input (3189976581.py, line 5)",
     "output_type": "error",
     "traceback": [
      "\u001b[0;36m  Input \u001b[0;32mIn [7]\u001b[0;36m\u001b[0m\n\u001b[0;31m    def bark():\u001b[0m\n\u001b[0m               ^\u001b[0m\n\u001b[0;31mSyntaxError\u001b[0m\u001b[0;31m:\u001b[0m incomplete input\n"
     ]
    }
   ],
   "source": [
    "class dog:\n",
    "        def __init__(self,name,age):\n",
    "                self.name=name\n",
    "                self.age=age\n",
    "        def bark():\n",
    "\n"
   ]
  },
  {
   "cell_type": "code",
   "execution_count": 8,
   "metadata": {},
   "outputs": [
    {
     "ename": "SyntaxError",
     "evalue": "incomplete input (3361740859.py, line 1)",
     "output_type": "error",
     "traceback": [
      "\u001b[0;36m  Input \u001b[0;32mIn [8]\u001b[0;36m\u001b[0m\n\u001b[0;31m    class calc(self,price,quant):\u001b[0m\n\u001b[0m                                 ^\u001b[0m\n\u001b[0;31mSyntaxError\u001b[0m\u001b[0;31m:\u001b[0m incomplete input\n"
     ]
    }
   ],
   "source": [
    "class shop:\n",
    "        def __init__(self,price,quant):\n",
    "                self.price=price\n",
    "                self.quant=quant\n",
    "        def calc(self):\n",
    "                return self.price*self.quant\n",
    "                 "
   ]
  },
  {
   "cell_type": "markdown",
   "metadata": {},
   "source": []
  },
  {
   "cell_type": "code",
   "execution_count": 10,
   "metadata": {},
   "outputs": [
    {
     "name": "stdout",
     "output_type": "stream",
     "text": [
      "['lol', 11, 22]\n"
     ]
    }
   ],
   "source": [
    "a=[\"lol\",11,22]\n",
    "print(a)"
   ]
  },
  {
   "cell_type": "code",
   "execution_count": 15,
   "metadata": {},
   "outputs": [
    {
     "name": "stdout",
     "output_type": "stream",
     "text": [
      "s\n",
      "s\n",
      "0\n",
      " \n",
      "p\n",
      "p\n",
      "s\n",
      "0\n",
      " \n",
      "p\n"
     ]
    }
   ],
   "source": [
    "word_list=[['s','s','0',' ','p'],['p','s','0',' ','p']]\n",
    "strletter=\"\"\n",
    "newlist=[]\n",
    "for word in word_list:\n",
    "        for letter in word:\n",
    "                print(letter)\n",
    "                # if letter==\" \":\n",
    "                        # word.remove(letter)\n",
    "                # else:\n",
    "                        # strletter=strletter+letter\n",
    "                # \n",
    "        # newlist.append(strletter)\n",
    "                print(strletter, end=\"\")\n",
    "# \n",
    "# for i in newlist:\n",
    "        # print(i, end=\"\")"
   ]
  },
  {
   "cell_type": "code",
   "execution_count": 14,
   "metadata": {},
   "outputs": [
    {
     "name": "stdout",
     "output_type": "stream",
     "text": [
      "68.18181818181819\n"
     ]
    }
   ],
   "source": [
    "volume=int(input(\"please type in the volume of saline to be given(ml) \"))\n",
    "time=int(input(\"please type in time to be given over(min): \"))\n",
    "drop_mass=15\n",
    "drip_rate=(volume*drop_mass)/time\n",
    "if drip_rate>200:\n",
    "        print(\"The dripping speed is too fast!\")\n",
    "else:\n",
    "        print(drip_rate)"
   ]
  },
  {
   "cell_type": "code",
   "execution_count": null,
   "metadata": {},
   "outputs": [],
   "source": []
  },
  {
   "cell_type": "markdown",
   "metadata": {},
   "source": [
    "we can add markdown text too in jupyter \n",
    "===\n",
    "hello world\n",
    "--\n"
   ]
  },
  {
   "cell_type": "code",
   "execution_count": 1,
   "metadata": {},
   "outputs": [
    {
     "ename": "IndexError",
     "evalue": "list index out of range",
     "output_type": "error",
     "traceback": [
      "\u001b[0;31m---------------------------------------------------------------------------\u001b[0m",
      "\u001b[0;31mIndexError\u001b[0m                                Traceback (most recent call last)",
      "\u001b[1;32m/home/rav/Code/python/Untitled-1.ipynb Cell 19\u001b[0m in \u001b[0;36m<cell line: 3>\u001b[0;34m()\u001b[0m\n\u001b[1;32m      <a href='vscode-notebook-cell:/home/rav/Code/python/Untitled-1.ipynb#X24sZmlsZQ%3D%3D?line=1'>2</a>\u001b[0m runsum\u001b[39m=\u001b[39m\u001b[39mlist\u001b[39m()\n\u001b[1;32m      <a href='vscode-notebook-cell:/home/rav/Code/python/Untitled-1.ipynb#X24sZmlsZQ%3D%3D?line=2'>3</a>\u001b[0m \u001b[39mfor\u001b[39;00m i \u001b[39min\u001b[39;00m nums:\n\u001b[0;32m----> <a href='vscode-notebook-cell:/home/rav/Code/python/Untitled-1.ipynb#X24sZmlsZQ%3D%3D?line=3'>4</a>\u001b[0m         i\u001b[39m=\u001b[39mi\u001b[39m+\u001b[39mnums[i\u001b[39m+\u001b[39;49m\u001b[39m1\u001b[39;49m]\n\u001b[1;32m      <a href='vscode-notebook-cell:/home/rav/Code/python/Untitled-1.ipynb#X24sZmlsZQ%3D%3D?line=4'>5</a>\u001b[0m         runsum\u001b[39m.\u001b[39mappend(i)\n\u001b[1;32m      <a href='vscode-notebook-cell:/home/rav/Code/python/Untitled-1.ipynb#X24sZmlsZQ%3D%3D?line=5'>6</a>\u001b[0m \u001b[39mprint\u001b[39m(runsum)\n",
      "\u001b[0;31mIndexError\u001b[0m: list index out of range"
     ]
    }
   ],
   "source": [
    "nums=[1,2,3,4]\n",
    "runsum=list()\n",
    "for i in nums:\n",
    "        i=i+nums[i+1]\n",
    "        runsum.append(i)\n",
    "print(runsum)\n"
   ]
  },
  {
   "cell_type": "code",
   "execution_count": 2,
   "metadata": {},
   "outputs": [
    {
     "name": "stdout",
     "output_type": "stream",
     "text": [
      "[1, 2, 3, 4]\n"
     ]
    }
   ],
   "source": [
    "nums=[1,2,3,4]\n",
    "runsum=list()\n",
    "for i in nums:\n",
    "        runsum.append(i)\n",
    "print(runsum)\n"
   ]
  },
  {
   "cell_type": "code",
   "execution_count": 2,
   "metadata": {},
   "outputs": [
    {
     "name": "stdout",
     "output_type": "stream",
     "text": [
      "1\n",
      "2\n",
      "3\n",
      "4\n",
      "[1, 2, 3, 4]\n"
     ]
    }
   ],
   "source": [
    "nums=[1,2,3,4]\n",
    "runsum=list()\n",
    "for i in nums:\n",
    "        print(i) \n",
    "        runsum.append(i)\n",
    "print(runsum)\n"
   ]
  },
  {
   "cell_type": "code",
   "execution_count": 3,
   "metadata": {},
   "outputs": [
    {
     "name": "stdout",
     "output_type": "stream",
     "text": [
      "<class 'list'>\n"
     ]
    }
   ],
   "source": [
    "liii=list()\n",
    "print(type(liii))"
   ]
  },
  {
   "cell_type": "code",
   "execution_count": 10,
   "metadata": {},
   "outputs": [
    {
     "ename": "IndexError",
     "evalue": "list index out of range",
     "output_type": "error",
     "traceback": [
      "\u001b[0;31m---------------------------------------------------------------------------\u001b[0m",
      "\u001b[0;31mIndexError\u001b[0m                                Traceback (most recent call last)",
      "\u001b[1;32m/home/rav/Code/python/Untitled-1.ipynb Cell 23\u001b[0m in \u001b[0;36m<cell line: 4>\u001b[0;34m()\u001b[0m\n\u001b[1;32m      <a href='vscode-notebook-cell:/home/rav/Code/python/Untitled-1.ipynb#X31sZmlsZQ%3D%3D?line=1'>2</a>\u001b[0m arr\u001b[39m=\u001b[39m[num[\u001b[39m0\u001b[39m]]\n\u001b[1;32m      <a href='vscode-notebook-cell:/home/rav/Code/python/Untitled-1.ipynb#X31sZmlsZQ%3D%3D?line=3'>4</a>\u001b[0m \u001b[39mfor\u001b[39;00m i \u001b[39min\u001b[39;00m \u001b[39mrange\u001b[39m(\u001b[39m1\u001b[39m,\u001b[39m5\u001b[39m): \n\u001b[1;32m      <a href='vscode-notebook-cell:/home/rav/Code/python/Untitled-1.ipynb#X31sZmlsZQ%3D%3D?line=4'>5</a>\u001b[0m         \u001b[39m# print(i)\u001b[39;00m\n\u001b[0;32m----> <a href='vscode-notebook-cell:/home/rav/Code/python/Untitled-1.ipynb#X31sZmlsZQ%3D%3D?line=5'>6</a>\u001b[0m         a\u001b[39m=\u001b[39marr[i]\u001b[39m+\u001b[39marr[i\u001b[39m-\u001b[39m\u001b[39m1\u001b[39m]\n\u001b[1;32m      <a href='vscode-notebook-cell:/home/rav/Code/python/Untitled-1.ipynb#X31sZmlsZQ%3D%3D?line=6'>7</a>\u001b[0m         arr\u001b[39m.\u001b[39mappend(a)\n\u001b[1;32m      <a href='vscode-notebook-cell:/home/rav/Code/python/Untitled-1.ipynb#X31sZmlsZQ%3D%3D?line=7'>8</a>\u001b[0m \u001b[39mprint\u001b[39m(arr)\n",
      "\u001b[0;31mIndexError\u001b[0m: list index out of range"
     ]
    }
   ],
   "source": [
    "num=[1,2,3,4]\n",
    "arr=[num[0]]\n",
    "\n",
    "for i in range(1,5): \n",
    "        # print(i)\n",
    "        a=arr[i]+arr[i-1]\n",
    "        arr.append(a)\n",
    "print(arr)"
   ]
  },
  {
   "cell_type": "code",
   "execution_count": 18,
   "metadata": {},
   "outputs": [
    {
     "name": "stdout",
     "output_type": "stream",
     "text": [
      "[1, 3, 6, 10, 15]\n"
     ]
    }
   ],
   "source": [
    "nums=[1,2,3,4,5]\n",
    "for i in range(1,len(nums)):\n",
    "        nums[i] += nums[i-1]\n",
    "print(nums)"
   ]
  },
  {
   "cell_type": "code",
   "execution_count": 19,
   "metadata": {},
   "outputs": [
    {
     "ename": "NameError",
     "evalue": "name 'List' is not defined",
     "output_type": "error",
     "traceback": [
      "\u001b[0;31m---------------------------------------------------------------------------\u001b[0m",
      "\u001b[0;31mNameError\u001b[0m                                 Traceback (most recent call last)",
      "\u001b[1;32m/home/rav/Code/python/Untitled-1.ipynb Cell 25\u001b[0m in \u001b[0;36m<cell line: 1>\u001b[0;34m()\u001b[0m\n\u001b[0;32m----> <a href='vscode-notebook-cell:/home/rav/Code/python/Untitled-1.ipynb#X33sZmlsZQ%3D%3D?line=0'>1</a>\u001b[0m \u001b[39mclass\u001b[39;00m \u001b[39mSolution\u001b[39;00m:\n\u001b[1;32m      <a href='vscode-notebook-cell:/home/rav/Code/python/Untitled-1.ipynb#X33sZmlsZQ%3D%3D?line=1'>2</a>\u001b[0m     \u001b[39mdef\u001b[39;00m \u001b[39mrunningSum\u001b[39m(\u001b[39mself\u001b[39m, nums: List[\u001b[39mint\u001b[39m]) \u001b[39m-\u001b[39m\u001b[39m>\u001b[39m List[\u001b[39mint\u001b[39m]:\n\u001b[1;32m      <a href='vscode-notebook-cell:/home/rav/Code/python/Untitled-1.ipynb#X33sZmlsZQ%3D%3D?line=2'>3</a>\u001b[0m         \u001b[39mfor\u001b[39;00m i \u001b[39min\u001b[39;00m \u001b[39mrange\u001b[39m(\u001b[39m1\u001b[39m,\u001b[39mlen\u001b[39m(nums)):\n",
      "\u001b[1;32m/home/rav/Code/python/Untitled-1.ipynb Cell 25\u001b[0m in \u001b[0;36mSolution\u001b[0;34m()\u001b[0m\n\u001b[1;32m      <a href='vscode-notebook-cell:/home/rav/Code/python/Untitled-1.ipynb#X33sZmlsZQ%3D%3D?line=0'>1</a>\u001b[0m \u001b[39mclass\u001b[39;00m \u001b[39mSolution\u001b[39;00m:\n\u001b[0;32m----> <a href='vscode-notebook-cell:/home/rav/Code/python/Untitled-1.ipynb#X33sZmlsZQ%3D%3D?line=1'>2</a>\u001b[0m     \u001b[39mdef\u001b[39;00m \u001b[39mrunningSum\u001b[39m(\u001b[39mself\u001b[39m, nums: List[\u001b[39mint\u001b[39m]) \u001b[39m-\u001b[39m\u001b[39m>\u001b[39m List[\u001b[39mint\u001b[39m]:\n\u001b[1;32m      <a href='vscode-notebook-cell:/home/rav/Code/python/Untitled-1.ipynb#X33sZmlsZQ%3D%3D?line=2'>3</a>\u001b[0m         \u001b[39mfor\u001b[39;00m i \u001b[39min\u001b[39;00m \u001b[39mrange\u001b[39m(\u001b[39m1\u001b[39m,\u001b[39mlen\u001b[39m(nums)):\n\u001b[1;32m      <a href='vscode-notebook-cell:/home/rav/Code/python/Untitled-1.ipynb#X33sZmlsZQ%3D%3D?line=3'>4</a>\u001b[0m             nums[i] \u001b[39m+\u001b[39m\u001b[39m=\u001b[39m nums[i\u001b[39m-\u001b[39m\u001b[39m1\u001b[39m]\n",
      "\u001b[0;31mNameError\u001b[0m: name 'List' is not defined"
     ]
    }
   ],
   "source": [
    "class Solution:\n",
    "    def runningSum(self, nums: List[int]) -> List[int]:\n",
    "        for i in range(1,len(nums)):\n",
    "            nums[i] += nums[i-1]\n",
    "        return(nums)"
   ]
  },
  {
   "cell_type": "code",
   "execution_count": null,
   "metadata": {},
   "outputs": [],
   "source": []
  }
 ],
 "metadata": {
  "kernelspec": {
   "display_name": "Python 3.10.5 64-bit",
   "language": "python",
   "name": "python3"
  },
  "language_info": {
   "codemirror_mode": {
    "name": "ipython",
    "version": 3
   },
   "file_extension": ".py",
   "mimetype": "text/x-python",
   "name": "python",
   "nbconvert_exporter": "python",
   "pygments_lexer": "ipython3",
   "version": "3.10.7"
  },
  "orig_nbformat": 4,
  "vscode": {
   "interpreter": {
    "hash": "e7370f93d1d0cde622a1f8e1c04877d8463912d04d973331ad4851f04de6915a"
   }
  }
 },
 "nbformat": 4,
 "nbformat_minor": 2
}
